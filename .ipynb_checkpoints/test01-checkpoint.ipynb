{
 "cells": [
  {
   "cell_type": "code",
   "execution_count": 3,
   "id": "initial_id",
   "metadata": {
    "ExecuteTime": {
     "end_time": "2024-05-13T23:35:08.628308Z",
     "start_time": "2024-05-13T23:35:07.984728Z"
    }
   },
   "outputs": [
    {
     "name": "stdout",
     "output_type": "stream",
     "text": [
      "0.5\n"
     ]
    }
   ],
   "source": [
    "\n",
    "import requests\n",
    "import os\n",
    "from pathlib import Path\n",
    "import sys\n",
    "import urllib\n",
    "\n",
    "import pandas as pd\n",
    "\n",
    "\n",
    "from bs4 import BeautifulSoup\n",
    "import re\n",
    "\n",
    "# print(requests.__version__)\n",
    "\n",
    "# list(dir(urllib))\n",
    "\n",
    "data =pd.Series([0.25,0.5, 0.75,1.0],\n",
    "index=['a','b','c','d'])\n",
    "\n",
    "print(data['b'])"
   ]
  },
  {
   "cell_type": "code",
   "execution_count": 9,
   "id": "71a1c6d4e009779a",
   "metadata": {
    "ExecuteTime": {
     "end_time": "2024-05-13T14:46:29.115977Z",
     "start_time": "2024-05-13T14:46:29.108109Z"
    }
   },
   "outputs": [
    {
     "name": "stdout",
     "output_type": "stream",
     "text": [
      "C:\\Users\\tonyw\\OneDrive\\Documents\\GitHub\\Python4AI\n",
      "C:\\Users\\tonyw\\OneDrive\\Documents\\GitHub\\Python4AI\\scraped_articles\n",
      "Generated path with drive letter: C:\\scraped_articles\n",
      "Generated path: c:\\users\\tonyw\\onedrive\\documents\\github\\python4ai\\built.txt\n"
     ]
    }
   ],
   "source": [
    "ROOT_DIR = os.path.abspath(os.curdir)\n",
    "print(ROOT_DIR)\n",
    "\n",
    "folder_name='scraped_articles'\n",
    "Scraped_Path = os.path.join(ROOT_DIR, folder_name)\n",
    "print(Scraped_Path)\n",
    "if not os.path.exists(Scraped_Path):\n",
    "   print('error')\n",
    "   \n",
    "my_path = os.path.join('C:' + os.sep, folder_name)\n",
    "print(\"Generated path with drive letter:\", my_path)  \n",
    "   \n",
    "dir_name = ROOT_DIR.lower()\n",
    "base_filename = 'built'\n",
    "format_suffix = 'txt'\n",
    "\n",
    "# Using os.path.join to create the full path\n",
    "full_path = os.path.join(dir_name, base_filename + '.' + format_suffix)\n",
    "\n",
    "print(\"Generated path:\", full_path)"
   ]
  },
  {
   "cell_type": "markdown",
   "id": "8ae9de13",
   "metadata": {
    "ExecuteTime": {
     "end_time": "2024-05-13T19:23:43.454721Z",
     "start_time": "2024-05-13T19:23:43.434680Z"
    }
   },
   "source": [
    "rep = {\"<br>\": \"\\n\", \"<br/>\": \"\\n\", \"<li>\": \"\\n\"}\n",
    "rep = dict((re.escape(k), v) for k, v in rep.items())\n",
    "pattern = re.compile(\"|\".join(rep.keys()))\n",
    "text = pattern.sub(lambda m: rep[re.escape(m.group(0))], text)\n",
    "# print (text)\n",
    "# text = re.sub('\\<(.*?)\\>', '', text)"
   ]
  },
  {
   "cell_type": "code",
   "execution_count": 10,
   "id": "70cde39c3336cfbe",
   "metadata": {
    "ExecuteTime": {
     "end_time": "2024-05-13T20:40:34.974206Z",
     "start_time": "2024-05-13T20:40:34.957587Z"
    }
   },
   "outputs": [
    {
     "name": "stdout",
     "output_type": "stream",
     "text": [
      "C:\\Users\\tonyw\\OneDrive\\Documents\\GitHub\\Python4AI\n",
      "C:\\Users\\tonyw\\OneDrive\\Documents\\GitHub\\Python4AI\\scraped_articles\n",
      "papa-what-is-a-neural-network-c5e5cc427c7\n"
     ]
    },
    {
     "ename": "NameError",
     "evalue": "name 'text' is not defined",
     "output_type": "error",
     "traceback": [
      "\u001b[1;31m---------------------------------------------------------------------------\u001b[0m",
      "\u001b[1;31mNameError\u001b[0m                                 Traceback (most recent call last)",
      "Cell \u001b[1;32mIn[10], line 26\u001b[0m\n\u001b[0;32m     24\u001b[0m \u001b[38;5;66;03m# Code here - write a file using with (2 lines)\u001b[39;00m\n\u001b[0;32m     25\u001b[0m \u001b[38;5;28;01mwith\u001b[39;00m \u001b[38;5;28mopen\u001b[39m(fname, \u001b[38;5;124m\"\u001b[39m\u001b[38;5;124mw\u001b[39m\u001b[38;5;124m\"\u001b[39m) \u001b[38;5;28;01mas\u001b[39;00m f:\n\u001b[1;32m---> 26\u001b[0m      f\u001b[38;5;241m.\u001b[39mwrite(text)  \u001b[38;5;66;03m# Write the input to the file\u001b[39;00m\n\u001b[0;32m     28\u001b[0m \u001b[38;5;66;03m# Code ends here\u001b[39;00m\n\u001b[0;32m     30\u001b[0m \u001b[38;5;28mprint\u001b[39m(\u001b[38;5;124mf\u001b[39m\u001b[38;5;124m'\u001b[39m\u001b[38;5;124mFile saved in directory \u001b[39m\u001b[38;5;132;01m{\u001b[39;00mfname\u001b[38;5;132;01m}\u001b[39;00m\u001b[38;5;124m'\u001b[39m)\n",
      "\u001b[1;31mNameError\u001b[0m: name 'text' is not defined"
     ]
    }
   ],
   "source": [
    "ROOT_DIR = os.path.abspath(os.curdir)\n",
    "print(ROOT_DIR)\n",
    "\n",
    "folder_name='scraped_articles'\n",
    "Scraped_Path = os.path.join(ROOT_DIR, folder_name)\n",
    "print(Scraped_Path)\n",
    "if not os.path.exists(Scraped_Path):\n",
    "   print('error')\n",
    "   \n",
    "# my_path = os.path.join('C:' + os.sep, folder_name)\n",
    "# print(\"Generated path with drive letter:\", my_path)  \n",
    "   \n",
    "# dir_name = ROOT_DIR.lower()\n",
    "# base_filename = 'built'\n",
    "# format_suffix = 'txt'\n",
    "# full_path = os.path.join(dir_name, base_filename + '.' + format_suffix)\n",
    "\n",
    "if not os.path.exists(Scraped_Path):\n",
    "        os.mkdir(Scraped_Path)\n",
    "name = url.split(\"/\")[-1]\n",
    "print(name)\n",
    "fname = f'scraped_articles/{name}.txt'\n",
    "\n",
    "# Code here - write a file using with (2 lines)\n",
    "with open(fname, \"w\") as f:\n",
    "     f.write(text)  # Write the input to the file\n",
    "     \n",
    "# Code ends here\n",
    "\n",
    "print(f'File saved in directory {fname}')"
   ]
  },
  {
   "cell_type": "code",
   "execution_count": null,
   "id": "4f6ef67162806d57",
   "metadata": {},
   "outputs": [],
   "source": []
  }
 ],
 "metadata": {
  "kernelspec": {
   "display_name": "Python 3 (ipykernel)",
   "language": "python",
   "name": "python3"
  },
  "language_info": {
   "codemirror_mode": {
    "name": "ipython",
    "version": 3
   },
   "file_extension": ".py",
   "mimetype": "text/x-python",
   "name": "python",
   "nbconvert_exporter": "python",
   "pygments_lexer": "ipython3",
   "version": "3.11.5"
  }
 },
 "nbformat": 4,
 "nbformat_minor": 5
}
