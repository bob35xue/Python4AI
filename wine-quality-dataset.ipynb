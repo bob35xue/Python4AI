{
 "cells": [
  {
   "cell_type": "code",
   "execution_count": 1,
   "id": "a6e24e81",
   "metadata": {
    "_cell_guid": "b1076dfc-b9ad-4769-8c92-a6c4dae69d19",
    "_uuid": "8f2839f25d086af736a60e9eeb907d3b93b6e0e5",
    "execution": {
     "iopub.execute_input": "2024-05-29T14:42:18.610260Z",
     "iopub.status.busy": "2024-05-29T14:42:18.609109Z",
     "iopub.status.idle": "2024-05-29T14:42:19.660678Z",
     "shell.execute_reply": "2024-05-29T14:42:19.658727Z"
    },
    "papermill": {
     "duration": 1.059935,
     "end_time": "2024-05-29T14:42:19.664127",
     "exception": false,
     "start_time": "2024-05-29T14:42:18.604192",
     "status": "completed"
    },
    "tags": []
   },
   "outputs": [
    {
     "name": "stdout",
     "output_type": "stream",
     "text": [
      "/kaggle/input/wine-quality-dataset/WineQT.csv\n"
     ]
    }
   ],
   "source": [
    "# This Python 3 environment comes with many helpful analytics libraries installed\n",
    "# It is defined by the kaggle/python Docker image: https://github.com/kaggle/docker-python\n",
    "# For example, here's several helpful packages to load\n",
    "\n",
    "import numpy as np # linear algebra\n",
    "import pandas as pd # data processing, CSV file I/O (e.g. pd.read_csv)\n",
    "\n",
    "# Input data files are available in the read-only \"../input/\" directory\n",
    "# For example, running this (by clicking run or pressing Shift+Enter) will list all files under the input directory\n",
    "\n",
    "import os\n",
    "for dirname, _, filenames in os.walk('/kaggle/input'):\n",
    "    for filename in filenames:\n",
    "        print(os.path.join(dirname, filename))\n",
    "\n",
    "# You can write up to 20GB to the current directory (/kaggle/working/) that gets preserved as output when you create a version using \"Save & Run All\" \n",
    "# You can also write temporary files to /kaggle/temp/, but they won't be saved outside of the current session"
   ]
  },
  {
   "cell_type": "code",
   "execution_count": 2,
   "id": "2feb1627",
   "metadata": {
    "execution": {
     "iopub.execute_input": "2024-05-29T14:42:19.672455Z",
     "iopub.status.busy": "2024-05-29T14:42:19.671931Z",
     "iopub.status.idle": "2024-05-29T14:42:22.010133Z",
     "shell.execute_reply": "2024-05-29T14:42:22.008781Z"
    },
    "papermill": {
     "duration": 2.345908,
     "end_time": "2024-05-29T14:42:22.013284",
     "exception": false,
     "start_time": "2024-05-29T14:42:19.667376",
     "status": "completed"
    },
    "tags": []
   },
   "outputs": [],
   "source": [
    "%matplotlib inline\n",
    "import seaborn as sns\n",
    "import matplotlib.pyplot as plt\n",
    "import scipy.stats as ss\n",
    "from collections import Counter\n",
    "import math\n",
    "from scipy import stats\n",
    "from sklearn.preprocessing import LabelEncoder\n",
    "from sklearn.model_selection import GridSearchCV\n",
    "from sklearn.ensemble import RandomForestClassifier\n",
    "from sklearn.tree import DecisionTreeClassifier\n",
    "from sklearn.linear_model import SGDClassifier\n",
    "from sklearn.svm import SVC\n",
    "from sklearn.linear_model import ElasticNet\n",
    "from sklearn.model_selection import train_test_split\n",
    "# import elasticnet"
   ]
  },
  {
   "cell_type": "code",
   "execution_count": 3,
   "id": "174da477",
   "metadata": {
    "execution": {
     "iopub.execute_input": "2024-05-29T14:42:22.022424Z",
     "iopub.status.busy": "2024-05-29T14:42:22.021982Z",
     "iopub.status.idle": "2024-05-29T14:42:22.031019Z",
     "shell.execute_reply": "2024-05-29T14:42:22.029555Z"
    },
    "papermill": {
     "duration": 0.01682,
     "end_time": "2024-05-29T14:42:22.033938",
     "exception": false,
     "start_time": "2024-05-29T14:42:22.017118",
     "status": "completed"
    },
    "tags": []
   },
   "outputs": [],
   "source": [
    "def build_dataset():\n",
    "    df = pd.read_csv(\"/kaggle/input/wine-quality-dataset/WineQT.csv\")\n",
    "    df['quality'] = df.quality.apply(lambda x: True if x>=6 else False )\n",
    "    df['quality'].value_counts()\n",
    "\n",
    "    df.drop(['Id'], axis = 1)\n",
    "    X = df.drop(['quality'], axis = 1)\n",
    "    y = df['quality']\n",
    "    return X, y"
   ]
  },
  {
   "cell_type": "code",
   "execution_count": 4,
   "id": "cb2c0362",
   "metadata": {
    "execution": {
     "iopub.execute_input": "2024-05-29T14:42:22.043405Z",
     "iopub.status.busy": "2024-05-29T14:42:22.042695Z",
     "iopub.status.idle": "2024-05-29T14:42:22.121650Z",
     "shell.execute_reply": "2024-05-29T14:42:22.119959Z"
    },
    "papermill": {
     "duration": 0.087586,
     "end_time": "2024-05-29T14:42:22.125029",
     "exception": false,
     "start_time": "2024-05-29T14:42:22.037443",
     "status": "completed"
    },
    "tags": []
   },
   "outputs": [
    {
     "data": {
      "text/plain": [
       "(      fixed acidity  volatile acidity  citric acid  residual sugar  chlorides  \\\n",
       " 0               7.4             0.700         0.00             1.9      0.076   \n",
       " 1               7.8             0.880         0.00             2.6      0.098   \n",
       " 2               7.8             0.760         0.04             2.3      0.092   \n",
       " 3              11.2             0.280         0.56             1.9      0.075   \n",
       " 4               7.4             0.700         0.00             1.9      0.076   \n",
       " ...             ...               ...          ...             ...        ...   \n",
       " 1138            6.3             0.510         0.13             2.3      0.076   \n",
       " 1139            6.8             0.620         0.08             1.9      0.068   \n",
       " 1140            6.2             0.600         0.08             2.0      0.090   \n",
       " 1141            5.9             0.550         0.10             2.2      0.062   \n",
       " 1142            5.9             0.645         0.12             2.0      0.075   \n",
       " \n",
       "       free sulfur dioxide  total sulfur dioxide  density    pH  sulphates  \\\n",
       " 0                    11.0                  34.0  0.99780  3.51       0.56   \n",
       " 1                    25.0                  67.0  0.99680  3.20       0.68   \n",
       " 2                    15.0                  54.0  0.99700  3.26       0.65   \n",
       " 3                    17.0                  60.0  0.99800  3.16       0.58   \n",
       " 4                    11.0                  34.0  0.99780  3.51       0.56   \n",
       " ...                   ...                   ...      ...   ...        ...   \n",
       " 1138                 29.0                  40.0  0.99574  3.42       0.75   \n",
       " 1139                 28.0                  38.0  0.99651  3.42       0.82   \n",
       " 1140                 32.0                  44.0  0.99490  3.45       0.58   \n",
       " 1141                 39.0                  51.0  0.99512  3.52       0.76   \n",
       " 1142                 32.0                  44.0  0.99547  3.57       0.71   \n",
       " \n",
       "       alcohol    Id  \n",
       " 0         9.4     0  \n",
       " 1         9.8     1  \n",
       " 2         9.8     2  \n",
       " 3         9.8     3  \n",
       " 4         9.4     4  \n",
       " ...       ...   ...  \n",
       " 1138     11.0  1592  \n",
       " 1139      9.5  1593  \n",
       " 1140     10.5  1594  \n",
       " 1141     11.2  1595  \n",
       " 1142     10.2  1597  \n",
       " \n",
       " [1143 rows x 12 columns],\n",
       " 0       False\n",
       " 1       False\n",
       " 2       False\n",
       " 3        True\n",
       " 4       False\n",
       "         ...  \n",
       " 1138     True\n",
       " 1139     True\n",
       " 1140    False\n",
       " 1141     True\n",
       " 1142    False\n",
       " Name: quality, Length: 1143, dtype: bool)"
      ]
     },
     "execution_count": 4,
     "metadata": {},
     "output_type": "execute_result"
    }
   ],
   "source": [
    "build_dataset()"
   ]
  }
 ],
 "metadata": {
  "kaggle": {
   "accelerator": "none",
   "dataSources": [
    {
     "datasetId": 1866301,
     "sourceId": 3047725,
     "sourceType": "datasetVersion"
    }
   ],
   "dockerImageVersionId": 30698,
   "isGpuEnabled": false,
   "isInternetEnabled": true,
   "language": "python",
   "sourceType": "notebook"
  },
  "kernelspec": {
   "display_name": "Python 3",
   "language": "python",
   "name": "python3"
  },
  "language_info": {
   "codemirror_mode": {
    "name": "ipython",
    "version": 3
   },
   "file_extension": ".py",
   "mimetype": "text/x-python",
   "name": "python",
   "nbconvert_exporter": "python",
   "pygments_lexer": "ipython3",
   "version": "3.10.13"
  },
  "papermill": {
   "default_parameters": {},
   "duration": 7.576824,
   "end_time": "2024-05-29T14:42:22.854274",
   "environment_variables": {},
   "exception": null,
   "input_path": "__notebook__.ipynb",
   "output_path": "__notebook__.ipynb",
   "parameters": {},
   "start_time": "2024-05-29T14:42:15.277450",
   "version": "2.5.0"
  }
 },
 "nbformat": 4,
 "nbformat_minor": 5
}
